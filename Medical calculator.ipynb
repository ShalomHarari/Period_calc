{
 "cells": [
  {
   "cell_type": "code",
   "execution_count": null,
   "id": "9259e587-c6ae-43b9-b9d8-32fd08a1a6e9",
   "metadata": {},
   "outputs": [],
   "source": [
    "Progesterone =float(input('Enter Progesterone value: '))\n",
    "Estradiol = float(input('Enter Estradiol value: '))\n",
    "LH = float(input('Enter LH value: '))\n",
    "FSH = float(input('Enter FSH value: '))\n",
    "\n",
    "def Medical_calculator():\n",
    "    score = 0\n",
    "    if Progesterone > 0 and Progesterone < 0.95 :\n",
    "        score == 0\n",
    "    elif Progesterone > 0.95 and Progesterone < 3.8 :\n",
    "        score = score + 2\n",
    "    elif  Progesterone > 3.8 and Progesterone < 50.5 :\n",
    "        score = score + 4\n",
    "    elif Progesterone > 52 :\n",
    "        return('ERROR Progesterone value to high')\n",
    "    if Estradiol > 140 and Estradiol <922 : \n",
    "        score = score + 0.33\n",
    "    elif Estradiol > 77 and Estradiol <140 or Estradiol > 922 and Estradiol <1145 or Estradiol > 1145: \n",
    "        score = score + 0.5\n",
    "    elif Estradiol > 2385 or Estradiol < 75:\n",
    "        return('ERROR Estradiol value to high/low ')\n",
    "    if LH > 0.6 and LH <1.8 : \n",
    "        score = score + 1\n",
    "    elif LH > 1.8 and LH <7.6 or LH > 12 and LH <14 or LH > 14 and LH < 89 : \n",
    "        score = score + 0.5\n",
    "    elif LH > 7.6 and LH <12 : \n",
    "        score = score + 0.33\n",
    "    elif LH > 90 or LH < 0.6:\n",
    "        return('ERROR LH value to high/low ')\n",
    "    if FSH > 1.3 and FSH < 2.5 : \n",
    "        score = score + 1\n",
    "    elif FSH > 2.5 and FSH <3 or FSH > 5.5 and FSH < 8 or FSH > 8 and FSH < 17 : \n",
    "        score = score + 0.5\n",
    "    elif FSH > 3 and FSH < 5.5 : \n",
    "        score = score + 0.33\n",
    "    elif FSH > 17 or FSH < 1.3 :\n",
    "        return('ERROR FSH value to high/low')\n",
    "    if score >= 4.5 :\n",
    "        print('The score is high = '+str(score)+' You are in the safe period ')\n",
    "\n",
    "    else : \n",
    "        print('The score is low = '+str(score)+'  You are Not in the safe period')\n",
    "Medical_calculator():"
   ]
  },
  {
   "cell_type": "code",
   "execution_count": null,
   "id": "8acce294-b9c8-47be-b362-83f3500578fd",
   "metadata": {},
   "outputs": [],
   "source": [
    "\n"
   ]
  },
  {
   "cell_type": "code",
   "execution_count": null,
   "id": "686ef573-c769-4c73-88c5-f28d5ca147ad",
   "metadata": {},
   "outputs": [],
   "source": []
  }
 ],
 "metadata": {
  "kernelspec": {
   "display_name": "Python 3 (ipykernel)",
   "language": "python",
   "name": "python3"
  },
  "language_info": {
   "codemirror_mode": {
    "name": "ipython",
    "version": 3
   },
   "file_extension": ".py",
   "mimetype": "text/x-python",
   "name": "python",
   "nbconvert_exporter": "python",
   "pygments_lexer": "ipython3",
   "version": "3.9.7"
  }
 },
 "nbformat": 4,
 "nbformat_minor": 5
}
